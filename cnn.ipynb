{
 "cells": [
  {
   "cell_type": "markdown",
   "metadata": {},
   "source": [
    "<h1><center> Detecção e Classificação de Exsudatos na Retina<br>Utilizando Redes Neurais Convolucionais</center></h1>"
   ]
  },
  {
   "cell_type": "markdown",
   "metadata": {},
   "source": [
    "<h2>Introdução</h2>"
   ]
  },
  {
   "cell_type": "markdown",
   "metadata": {},
   "source": [
    "- O presente trabalho apresenta diferentes maneiras de aplicar técnicas de Processamento Digital de Imagens para detectar e classificar a presença ou asência de exsudatos na retina.\n",
    "\n",
    "- As imagens estão divididas em duas pastas, cada uma contendo 1890 imagens de sua respectiva classe (normal e com exsudatos).\n",
    "\n",
    "- Cada imagem tem dimensão de 92x92 pixels. Esse formato foi adotado por conta do pouco recurso computacional existente para processá-las."
   ]
  },
  {
   "cell_type": "markdown",
   "metadata": {},
   "source": [
    "#### Com exsudatos\n",
    "![alt text](database/ex/0.png \"Esxudato\")\n",
    "\n",
    "#### Sem exsudatos\n",
    "![alt text](database/normal/0.png \"Normal\")"
   ]
  },
  {
   "cell_type": "markdown",
   "metadata": {},
   "source": [
    "<h2> <center> Os seguintes tópicos se referem a preparação das imagens tanto para treino da CNN quanto extração de características. </center> </h2>"
   ]
  },
  {
   "cell_type": "markdown",
   "metadata": {},
   "source": [
    "### Preparando dados\n",
    "\n",
    "- A preparação dos dados consiste em redimensionar as imagens para quadrados de 92x92."
   ]
  },
  {
   "cell_type": "code",
   "execution_count": null,
   "metadata": {},
   "outputs": [],
   "source": [
    "import cv2\n",
    "import glob as g\n",
    "\n",
    "normal = g.glob('/original/normal/*.png')\n",
    "ex = g.glob('/original/ex/*.png')\n",
    "\n",
    "for _, __ in enumerate(normal):\n",
    "    img = cv2.imread(__, 0)\n",
    "    img = cv2.resize(img, None, fx=0.2, fy=0.2)\n",
    "    cv2.imwrite('/database/normal/%d.png' % _, img)\n",
    "\n",
    "for _, __ in enumerate(ex):\n",
    "    img = cv2.imread(__, 0)\n",
    "    img = cv2.resize(img, None, fx=0.2, fy=0.2)\n",
    "    cv2.imwrite('/database/ex/%d.png' % _, img)"
   ]
  },
  {
   "cell_type": "markdown",
   "metadata": {},
   "source": [
    "### Aumento de dados\n",
    "\n",
    "- A rotação é feita em 300 graus indo de 30 em 30."
   ]
  },
  {
   "cell_type": "code",
   "execution_count": null,
   "metadata": {},
   "outputs": [],
   "source": [
    "from PIL import Image\n",
    "\n",
    "hash0 = 0\n",
    "hash1 = 0\n",
    "for i in g.glob('/database/normal/*.png'):\n",
    "    im = Image.open(i)\n",
    "    for _ in range(30, 300, 10):\n",
    "        im2 = im.rotate(_)\n",
    "        im2.save('/database/normal/%d.png' % hash0)\n",
    "        hash0 += 1\n",
    "\n",
    "for i in g.glob('/database/ex/*.png'):\n",
    "    im = Image.open(i)\n",
    "    for _ in range(30, 300, 10):\n",
    "        im2 = im.rotate(_)\n",
    "        im2.save('/database/ex/%d.png' % hash1)\n",
    "        hash1 += 1"
   ]
  },
  {
   "cell_type": "markdown",
   "metadata": {},
   "source": [
    "### Aplicando filtro\n",
    "\n",
    "- Código da aplicação do filtro **prewitt**."
   ]
  },
  {
   "cell_type": "code",
   "execution_count": null,
   "metadata": {},
   "outputs": [],
   "source": [
    "import glob as g\n",
    "from skimage.io import imread, imsave\n",
    "from skimage.filters import prewitt\n",
    "\n",
    "normal = g.glob('./database/normal/*.png')\n",
    "ex = g.glob('./database/ex/*.png')\n",
    "\n",
    "for i, path in enumerate(normal):\n",
    "    im = imread(path, as_grey=True)\n",
    "    im = prewitt(im)\n",
    "    imsave('./database/normal/%d.png'%i, im)\n",
    "    \n",
    "for i, path in enumerate(ex):\n",
    "    im = imread(path, as_grey=True)\n",
    "    im = prewitt(im)\n",
    "    imsave('./database/ex/%d.png'%i, im)"
   ]
  },
  {
   "cell_type": "markdown",
   "metadata": {},
   "source": [
    "<h2> <center> Extração de características e classificação utilizando o classificador SMV </center></h2>"
   ]
  },
  {
   "cell_type": "markdown",
   "metadata": {},
   "source": [
    "### Carregando dados\n",
    "\n",
    "- O seguinte código carrega as imagens de seus respectivos repositórios para dois vetores distintos."
   ]
  },
  {
   "cell_type": "code",
   "execution_count": null,
   "metadata": {},
   "outputs": [],
   "source": [
    "from skimage.io import imread\n",
    "from skimage.exposure import histogram\n",
    "from skimage.color import rgb2gray\n",
    "import glob as g\n",
    "import numpy as np\n",
    "import matplotlib.pyplot as plt\n",
    "from scipy.stats import skew, kurtosis, entropy\n",
    "%matplotlib inline\n",
    "\n",
    "labels, labels_name = [], ['normal', 'ex']\n",
    "\n",
    "normal = g.glob('./database/normal/*.png')\n",
    "ex = g.glob('./database/ex/*.png')\n",
    "\n",
    "images = []\n",
    "\n",
    "for path in normal:\n",
    "    im = imread(path, as_grey=True)\n",
    "    images.append(im)\n",
    "    labels.append(0)\n",
    "\n",
    "for path in ex:\n",
    "    im = imread(path, as_grey=True)\n",
    "    images.append(im)\n",
    "    labels.append(1)"
   ]
  },
  {
   "cell_type": "markdown",
   "metadata": {},
   "source": [
    "### Extração de Características\n",
    "\n",
    "- Extraindo atributos de energia, entropia, media, variancia, *skiw* e *kurtosis* ."
   ]
  },
  {
   "cell_type": "raw",
   "metadata": {},
   "source": [
    "dados = []\n",
    "\n",
    "for i in images:\n",
    "    features = []\n",
    "    histo = histogram(i, nbins=256)[0]\n",
    "    features.append(np.mean(histo))\n",
    "    features.append(np.var(histo))\n",
    "    features.append(skew(histo))\n",
    "    features.append(kurtosis(histo))\n",
    "    features.append(entropy(histo))\n",
    "    features.append(np.power(histo, 2).sum())\n",
    "    \n",
    "    dados.append(features)"
   ]
  },
  {
   "cell_type": "markdown",
   "metadata": {},
   "source": [
    "### Separando dados\n",
    "\n",
    "- O seguinte código realiza a divisão dos dados de treino e teste."
   ]
  },
  {
   "cell_type": "code",
   "execution_count": null,
   "metadata": {},
   "outputs": [],
   "source": [
    "from sklearn.model_selection import train_test_split\n",
    "\n",
    "train_data, test_data, train_label, test_label = train_test_split(dados, labels, test_size=0.2)\n",
    "\n",
    "print('data train: {}'.format(len(train_data)))\n",
    "print('data test: {}'.format(len(test_data)))\n",
    "print('train labels: {}'.format(train_label))\n",
    "print('test labels: {}'.format(test_label))\n",
    "print('labels name: {}'.format(labels_name))"
   ]
  },
  {
   "cell_type": "markdown",
   "metadata": {},
   "source": [
    "### Treinando o classificador\n",
    "\n",
    "- O seguinte código treina o classficador com as características extraídas."
   ]
  },
  {
   "cell_type": "code",
   "execution_count": null,
   "metadata": {},
   "outputs": [],
   "source": [
    "from sklearn.svm import SVC\n",
    "\n",
    "classifier = SVC()\n",
    "classifier.fit(train_data, train_label)"
   ]
  },
  {
   "cell_type": "markdown",
   "metadata": {},
   "source": [
    "### Testes\n",
    "\n",
    "- O seguinte código realiza o teste com os dados de teste. "
   ]
  },
  {
   "cell_type": "code",
   "execution_count": null,
   "metadata": {},
   "outputs": [],
   "source": [
    "from sklearn.metrics import accuracy_score, confusion_matrix\n",
    "\n",
    "prediction = classifier.predict(test_data)\n",
    "accuracy = accuracy_score(test_label, prediction)\n",
    "matrix = confusion_matrix(test_label, prediction)\n",
    "\n",
    "print(matrix)"
   ]
  },
  {
   "cell_type": "markdown",
   "metadata": {},
   "source": [
    "<h2> <center> Contruindo e treinando uma Rede Neural Convolucional para classificação </center> </h2>"
   ]
  },
  {
   "cell_type": "code",
   "execution_count": null,
   "metadata": {},
   "outputs": [],
   "source": [
    "import glob \n",
    "import random\n",
    "\n",
    "import numpy as np\n",
    "from skimage.io import imread_collection\n",
    "import tensorflow as tf"
   ]
  },
  {
   "cell_type": "markdown",
   "metadata": {},
   "source": [
    "### Definindo camadas de convolução e de *pooling*"
   ]
  },
  {
   "cell_type": "code",
   "execution_count": null,
   "metadata": {},
   "outputs": [],
   "source": [
    "def weight_variable(shape):\n",
    "    initial = tf.truncated_normal(shape, stddev=0.1)\n",
    "    return tf.Variable(initial)\n",
    "\n",
    "def conv2d(x, W):\n",
    "    return tf.nn.conv2d(x, W, strides=[1, 1, 1, 1], padding='SAME')\n",
    "\n",
    "def max_pool_2x2(x):\n",
    "    return tf.nn.max_pool(x, ksize=[1, 2, 2, 1],strides=[1, 2, 2, 1], padding='SAME')\n",
    "\n",
    "def bias_variable(shape):\n",
    "    initial = tf.constant(0.1, shape=shape)\n",
    "    return tf.Variable(initial)"
   ]
  },
  {
   "cell_type": "markdown",
   "metadata": {},
   "source": [
    "###  Contruindo a rede"
   ]
  },
  {
   "cell_type": "code",
   "execution_count": null,
   "metadata": {},
   "outputs": [],
   "source": [
    "x = tf.placeholder(tf.float32, [None, 1, 8464])\n",
    "\n",
    "y_ = tf.placeholder(tf.float32, [None, 2])\n",
    "\n",
    "x_image = tf.reshape(x, [-1,92,92,1])\n",
    "\n",
    "W_conv1 = weight_variable([3, 3, 1, 32])\n",
    "\n",
    "b_conv1 = bias_variable([32])\n",
    "\n",
    "h_conv1 = tf.nn.relu(conv2d(x_image, W_conv1) + b_conv1)\n",
    "\n",
    "h_pool1 = max_pool_2x2(h_conv1)\n",
    "\n",
    "W_conv2 = weight_variable([3, 3, 32, 64])\n",
    "\n",
    "b_conv2 = bias_variable([64])\n",
    "\n",
    "h_conv2 = tf.nn.relu(conv2d(h_pool1, W_conv2) + b_conv2)\n",
    "\n",
    "h_pool2 = max_pool_2x2(h_conv2)\n",
    "\n",
    "W_fc1 = weight_variable([33856, 1024])\n",
    "\n",
    "b_fc1 = bias_variable([1024])\n",
    "\n",
    "h_pool2_flat = tf.reshape(h_pool2, [-1, 33856])\n",
    "\n",
    "h_fc1 = tf.nn.relu(tf.matmul(h_pool2_flat, W_fc1) + b_fc1)\n",
    "\n",
    "keep_prob = tf.placeholder(tf.float32)\n",
    "\n",
    "h_fc1_drop = tf.nn.dropout(h_fc1, keep_prob)\n",
    "\n",
    "W_fc2 = weight_variable([1024, 2])\n",
    "\n",
    "b_fc2 = bias_variable([2])\n",
    "\n",
    "y_conv = tf.matmul(h_fc1_drop, W_fc2) + b_fc2"
   ]
  },
  {
   "cell_type": "code",
   "execution_count": null,
   "metadata": {},
   "outputs": [],
   "source": [
    "cross_entropy = tf.reduce_mean(tf.nn.softmax_cross_entropy_with_logits(logits= y_conv, labels = y_))\n",
    "\n",
    "train_step = tf.train.AdamOptimizer(1e-5).minimize(cross_entropy)\n",
    "\n",
    "correct_prediction = tf.equal(tf.argmax(y_conv,1), tf.argmax(y_,1))\n",
    "accuracy = tf.reduce_mean(tf.cast(correct_prediction, tf.float32))"
   ]
  },
  {
   "cell_type": "markdown",
   "metadata": {},
   "source": [
    "### Separando dados de treino e teste"
   ]
  },
  {
   "cell_type": "code",
   "execution_count": null,
   "metadata": {},
   "outputs": [],
   "source": [
    "def read_images(path):\n",
    "    classes = glob.glob(path+'*')\n",
    "    im_files = []\n",
    "    size_classes = []\n",
    "    for i in classes:\n",
    "        name_images_per_class = glob.glob(i+'/*')\n",
    "        im_files = im_files+name_images_per_class\n",
    "        size_classes.append(len(name_images_per_class))\n",
    "    labels = np.zeros((len(im_files),len(classes)))\n",
    "    ant = 0\n",
    "    for id_i,i in enumerate(size_classes):\n",
    "        labels[ant:ant+i,id_i] = 1\n",
    "        ant = i\n",
    "    collection = imread_collection(im_files)\n",
    "    data = []\n",
    "    for id_i,i in enumerate(collection):\n",
    "        data.append((i.reshape(1,-1)))\n",
    "    return np.asarray(data), np.asarray(labels)"
   ]
  },
  {
   "cell_type": "markdown",
   "metadata": {},
   "source": [
    "### Treinando a rede"
   ]
  },
  {
   "cell_type": "code",
   "execution_count": null,
   "metadata": {},
   "outputs": [],
   "source": [
    "path = 'database/'\n",
    "\n",
    "data, labels = read_images(path)\n",
    "\n",
    "batch_size = 5\n",
    "\n",
    "epochs = 31\n",
    "\n",
    "percent = 0.5\n",
    "\n",
    "data_size = len(data)\n",
    "idx = np.arange(data_size)\n",
    "random.shuffle(idx) \n",
    "data = data[idx]\n",
    "labels = labels[idx]\n",
    "\n",
    "train = (data[0:np.int(data_size*percent),:,:],labels[0:np.int(data_size*percent),:])\n",
    "\n",
    "test = (data[np.int(data_size*(1-percent)):,:,:],labels[np.int(data_size*(1-percent)):,:])\n",
    "\n",
    "train_size = len(train[0])\n",
    "\n",
    "sess = tf.InteractiveSession()\n",
    "\n",
    "tf.initialize_all_variables().run()\n",
    "\n",
    "for n in range(epochs):\n",
    "    for i in range(int(np.ceil(train_size/batch_size))):\n",
    "        if (i*batch_size+batch_size <= train_size):\n",
    "            batch = (train[0][i*batch_size:i*batch_size+batch_size],\n",
    "                     train[1][i*batch_size:i*batch_size+batch_size])\n",
    "        else:\n",
    "            batch = (train[0][i*batch_size:],\n",
    "                     train[1][i*batch_size:])\n",
    "            \n",
    "        train_step.run(feed_dict={x: batch[0], y_: batch[1], keep_prob: 0.5})\n",
    "        \n",
    "    if(n%5 == 0):\n",
    "        train_accuracy = accuracy.eval(feed_dict={x:batch[0], y_: batch[1], keep_prob: 1.0})\n",
    "        print(\"Epoca %d, acuracia do treinamento = %g\"%(n, train_accuracy))\n",
    "\n"
   ]
  },
  {
   "cell_type": "markdown",
   "metadata": {},
   "source": [
    "### Classificação"
   ]
  },
  {
   "cell_type": "code",
   "execution_count": null,
   "metadata": {},
   "outputs": [],
   "source": [
    "acuracia = accuracy.eval(feed_dict={x: test[0][:], y_: test[1][:], keep_prob: 1.0})\n",
    "print(\"Acuracia = \", acuracia)"
   ]
  }
 ],
 "metadata": {
  "kernelspec": {
   "display_name": "Python 3",
   "language": "python",
   "name": "python3"
  },
  "language_info": {
   "codemirror_mode": {
    "name": "ipython",
    "version": 3
   },
   "file_extension": ".py",
   "mimetype": "text/x-python",
   "name": "python",
   "nbconvert_exporter": "python",
   "pygments_lexer": "ipython3",
   "version": "3.6.5"
  }
 },
 "nbformat": 4,
 "nbformat_minor": 2
}
